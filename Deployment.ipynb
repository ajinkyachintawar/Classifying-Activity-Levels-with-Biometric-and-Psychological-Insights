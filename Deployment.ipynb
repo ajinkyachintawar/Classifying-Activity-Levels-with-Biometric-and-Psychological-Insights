{
 "cells": [
  {
   "cell_type": "markdown",
   "id": "5ee21cbb-6e4c-405d-881b-3c4413259a20",
   "metadata": {},
   "source": [
    "# 1. Import Libraries and Dataset"
   ]
  },
  {
   "cell_type": "code",
   "execution_count": 1,
   "id": "5d570f95-7873-4ed1-a358-d933b7ab5ffb",
   "metadata": {},
   "outputs": [],
   "source": [
    "import pandas as pd\n",
    "import joblib\n",
    "import numpy as np\n",
    "from sklearn.metrics import classification_report, accuracy_score, confusion_matrix"
   ]
  },
  {
   "cell_type": "code",
   "execution_count": 2,
   "id": "fe0f33d0-0899-46f9-9c54-28b03c73ec19",
   "metadata": {},
   "outputs": [],
   "source": [
    "# Load raw participants data\n",
    "raw_data_path = \"The Fusion of Mind and Motion_ Classifying Activity Levels with Biometric and Insights(1-40).xlsx\"  \n",
    "participants_data = pd.read_excel(raw_data_path)"
   ]
  },
  {
   "cell_type": "code",
   "execution_count": 3,
   "id": "cb66c1ef-5416-4de3-98ef-b465ae9b630d",
   "metadata": {},
   "outputs": [
    {
     "name": "stdout",
     "output_type": "stream",
     "text": [
      "<class 'pandas.core.frame.DataFrame'>\n",
      "RangeIndex: 40 entries, 0 to 39\n",
      "Data columns (total 33 columns):\n",
      " #   Column                                                                                                     Non-Null Count  Dtype         \n",
      "---  ------                                                                                                     --------------  -----         \n",
      " 0   ID                                                                                                         40 non-null     int64         \n",
      " 1   Start time                                                                                                 40 non-null     datetime64[ns]\n",
      " 2   Completion time                                                                                            40 non-null     datetime64[ns]\n",
      " 3   Email                                                                                                      40 non-null     object        \n",
      " 4   Name                                                                                                       0 non-null      float64       \n",
      " 5   Last modified time                                                                                         0 non-null      float64       \n",
      " 6   I have read and understood the purpose of this study                                                       40 non-null     object        \n",
      " 7   I understand that my participation is voluntary, and I can withdraw at any time without any consequences.  40 non-null     object        \n",
      " 8   I agree to participate in this study.                                                                      40 non-null     object        \n",
      " 9   Participant ID                                                                                             40 non-null     object        \n",
      " 10  Age                                                                                                        40 non-null     object        \n",
      " 11  Gender                                                                                                     40 non-null     object        \n",
      " 12  Height (in cm)                                                                                             40 non-null     float64       \n",
      " 13  Weight (in kg)                                                                                             40 non-null     int64         \n",
      " 14  Do you use a fitness tracker or wearable device to track biometrics?                                       40 non-null     object        \n",
      " 15  Average Resting Heart Rate (bpm) (Refer to the Information Sheet for measuring guidance)                   40 non-null     int64         \n",
      " 16  Daily Average Step Count (Refer to the Information Sheet for measuring guidance)                           40 non-null     int64         \n",
      " 17  How often do you monitor your biometrics?                                                                  40 non-null     object        \n",
      " 18  If you realized you received too much change, you would feel obligated to return it immediately            40 non-null     object        \n",
      " 19  I find it difficult to stay calm when faced with minor inconveniences.                                     40 non-null     object        \n",
      " 20  I feel comfortable starting conversations in a room full of unfamiliar people.                             40 non-null     object        \n",
      " 21  I would try to remain open and respectful when discussing a topic I strongly disagree on with a friend.    40 non-null     object        \n",
      " 22  I begin working on tasks with deadlines well in advance to avoid last-minute stress.                       40 non-null     object        \n",
      " 23  I feel excited to try new restaurants or cuisines, even if they are unfamiliar to me.                      40 non-null     object        \n",
      " 24  How often do you engage in physical exercise?                                                              40 non-null     object        \n",
      " 25  What type of physical activities do you regularly engage in?                                               39 non-null     object        \n",
      " 26  How would you describe your eating habits?                                                                 40 non-null     object        \n",
      " 27  How many hours do you sleep on average per night?                                                          40 non-null     object        \n",
      " 28  How often do you feel stressed or anxious?                                                                 40 non-null     object        \n",
      " 29  How much time do you spend sitting daily (e.g., working, studying, watching TV)?                           40 non-null     object        \n",
      " 30  Do you smoke or consume alcohol?                                                                           40 non-null     object        \n",
      " 31  Would you be open to participating in future follow-up studies related to this research?                   40 non-null     object        \n",
      " 32  Any additional comments or suggestions?                                                                    13 non-null     object        \n",
      "dtypes: datetime64[ns](2), float64(3), int64(4), object(24)\n",
      "memory usage: 10.4+ KB\n"
     ]
    }
   ],
   "source": [
    "participants_data.info()"
   ]
  },
  {
   "cell_type": "markdown",
   "id": "ffafec8b-3039-419c-9783-550b502f5fc8",
   "metadata": {},
   "source": [
    "# 2. Data Pre-Processing"
   ]
  },
  {
   "cell_type": "markdown",
   "id": "6f7daefd-5e81-4c30-8948-abdb1e9d748a",
   "metadata": {},
   "source": [
    "## 2.1 Column Names Mapping"
   ]
  },
  {
   "cell_type": "code",
   "execution_count": 4,
   "id": "0d053673-5b29-42d8-9860-5e1952ca14b2",
   "metadata": {},
   "outputs": [],
   "source": [
    "# Renaming columns based on your mapping\n",
    "column_mapping = {\n",
    "    \"Average Resting Heart Rate (bpm) (Refer to the Information Sheet for measuring guidance)\": \"fitbit_resting_heart_rate\",\n",
    "    \"Daily Average Step Count (Refer to the Information Sheet for measuring guidance)\": \"fitbit_steps\",\n",
    "    \"Height (in cm)\": \"height_cm\",\n",
    "    \"Weight (in kg)\": \"weight_kg\",\n",
    "    \"If you realized you received too much change, you would feel obligated to return it immediately\": \"Honesty/Humility\",\n",
    "    \"I find it difficult to stay calm when faced with minor inconveniences.\": \"Negative Emotionality\",\n",
    "    \"I feel comfortable starting conversations in a room full of unfamiliar people.\": \"Extraversion\",\n",
    "    \"I would try to remain open and respectful when discussing a topic I strongly disagree on with a friend.\": \"Agreeableness\",\n",
    "    \"I begin working on tasks with deadlines well in advance to avoid last-minute stress.\": \"Conscientiousness\",\n",
    "    \"I feel excited to try new restaurants or cuisines, even if they are unfamiliar to me.\": \"Openness to Experiences\",\n",
    "}\n",
    "participants_data.rename(columns=column_mapping, inplace=True)"
   ]
  },
  {
   "cell_type": "code",
   "execution_count": 5,
   "id": "d71f593b-7c34-4e87-8c42-8b3e4837e9ba",
   "metadata": {},
   "outputs": [],
   "source": [
    "# Combine all required columns into a new dataframe\n",
    "final_columns = [\n",
    "    \"fitbit_resting_heart_rate\",\n",
    "    \"Honesty/Humility\",\n",
    "    \"Negative Emotionality\",\n",
    "    \"Extraversion\",\n",
    "    \"Agreeableness\",\n",
    "    \"Conscientiousness\",\n",
    "    \"Openness to Experiences\",\n",
    "    \"fitbit_steps\",\n",
    "    \"weight_kg\",\n",
    "    \"height_cm\"\n",
    "]\n",
    "final_dataframe = participants_data[final_columns].copy()"
   ]
  },
  {
   "cell_type": "code",
   "execution_count": 6,
   "id": "8ec9f520-74d0-4386-9762-c79b66b9d9bf",
   "metadata": {},
   "outputs": [
    {
     "name": "stdout",
     "output_type": "stream",
     "text": [
      "<class 'pandas.core.frame.DataFrame'>\n",
      "RangeIndex: 40 entries, 0 to 39\n",
      "Data columns (total 10 columns):\n",
      " #   Column                     Non-Null Count  Dtype  \n",
      "---  ------                     --------------  -----  \n",
      " 0   fitbit_resting_heart_rate  40 non-null     int64  \n",
      " 1   Honesty/Humility           40 non-null     object \n",
      " 2   Negative Emotionality      40 non-null     object \n",
      " 3   Extraversion               40 non-null     object \n",
      " 4   Agreeableness              40 non-null     object \n",
      " 5   Conscientiousness          40 non-null     object \n",
      " 6   Openness to Experiences    40 non-null     object \n",
      " 7   fitbit_steps               40 non-null     int64  \n",
      " 8   weight_kg                  40 non-null     int64  \n",
      " 9   height_cm                  40 non-null     float64\n",
      "dtypes: float64(1), int64(3), object(6)\n",
      "memory usage: 3.2+ KB\n"
     ]
    }
   ],
   "source": [
    "final_dataframe.info()"
   ]
  },
  {
   "cell_type": "code",
   "execution_count": 7,
   "id": "29b5b721-6396-4294-be95-56a7d9e80c24",
   "metadata": {},
   "outputs": [
    {
     "data": {
      "text/html": [
       "<div>\n",
       "<style scoped>\n",
       "    .dataframe tbody tr th:only-of-type {\n",
       "        vertical-align: middle;\n",
       "    }\n",
       "\n",
       "    .dataframe tbody tr th {\n",
       "        vertical-align: top;\n",
       "    }\n",
       "\n",
       "    .dataframe thead th {\n",
       "        text-align: right;\n",
       "    }\n",
       "</style>\n",
       "<table border=\"1\" class=\"dataframe\">\n",
       "  <thead>\n",
       "    <tr style=\"text-align: right;\">\n",
       "      <th></th>\n",
       "      <th>fitbit_resting_heart_rate</th>\n",
       "      <th>Honesty/Humility</th>\n",
       "      <th>Negative Emotionality</th>\n",
       "      <th>Extraversion</th>\n",
       "      <th>Agreeableness</th>\n",
       "      <th>Conscientiousness</th>\n",
       "      <th>Openness to Experiences</th>\n",
       "      <th>fitbit_steps</th>\n",
       "      <th>weight_kg</th>\n",
       "      <th>height_cm</th>\n",
       "    </tr>\n",
       "  </thead>\n",
       "  <tbody>\n",
       "    <tr>\n",
       "      <th>0</th>\n",
       "      <td>64</td>\n",
       "      <td>Agree</td>\n",
       "      <td>Neutral</td>\n",
       "      <td>Neutral</td>\n",
       "      <td>Agree</td>\n",
       "      <td>Neutral</td>\n",
       "      <td>Neutral</td>\n",
       "      <td>12004</td>\n",
       "      <td>55</td>\n",
       "      <td>164.50</td>\n",
       "    </tr>\n",
       "    <tr>\n",
       "      <th>1</th>\n",
       "      <td>67</td>\n",
       "      <td>Neutral</td>\n",
       "      <td>Neutral</td>\n",
       "      <td>Neutral</td>\n",
       "      <td>Neutral</td>\n",
       "      <td>Agree</td>\n",
       "      <td>Agree</td>\n",
       "      <td>9797</td>\n",
       "      <td>60</td>\n",
       "      <td>157.50</td>\n",
       "    </tr>\n",
       "    <tr>\n",
       "      <th>2</th>\n",
       "      <td>68</td>\n",
       "      <td>Neutral</td>\n",
       "      <td>Disagree</td>\n",
       "      <td>Agree</td>\n",
       "      <td>Neutral</td>\n",
       "      <td>Neutral</td>\n",
       "      <td>Agree</td>\n",
       "      <td>6857</td>\n",
       "      <td>74</td>\n",
       "      <td>171.00</td>\n",
       "    </tr>\n",
       "    <tr>\n",
       "      <th>3</th>\n",
       "      <td>65</td>\n",
       "      <td>Agree</td>\n",
       "      <td>Disagree</td>\n",
       "      <td>Neutral</td>\n",
       "      <td>Agree</td>\n",
       "      <td>Agree</td>\n",
       "      <td>Agree</td>\n",
       "      <td>13498</td>\n",
       "      <td>83</td>\n",
       "      <td>180.34</td>\n",
       "    </tr>\n",
       "    <tr>\n",
       "      <th>4</th>\n",
       "      <td>68</td>\n",
       "      <td>Neutral</td>\n",
       "      <td>Disagree</td>\n",
       "      <td>Disagree</td>\n",
       "      <td>Neutral</td>\n",
       "      <td>Disagree</td>\n",
       "      <td>Strongly Agree</td>\n",
       "      <td>6365</td>\n",
       "      <td>72</td>\n",
       "      <td>175.00</td>\n",
       "    </tr>\n",
       "  </tbody>\n",
       "</table>\n",
       "</div>"
      ],
      "text/plain": [
       "   fitbit_resting_heart_rate Honesty/Humility Negative Emotionality  \\\n",
       "0                         64            Agree               Neutral   \n",
       "1                         67          Neutral               Neutral   \n",
       "2                         68          Neutral              Disagree   \n",
       "3                         65            Agree              Disagree   \n",
       "4                         68          Neutral              Disagree   \n",
       "\n",
       "  Extraversion Agreeableness Conscientiousness Openness to Experiences  \\\n",
       "0      Neutral         Agree           Neutral                 Neutral   \n",
       "1      Neutral       Neutral             Agree                   Agree   \n",
       "2        Agree       Neutral           Neutral                   Agree   \n",
       "3      Neutral         Agree             Agree                   Agree   \n",
       "4     Disagree       Neutral          Disagree          Strongly Agree   \n",
       "\n",
       "   fitbit_steps  weight_kg  height_cm  \n",
       "0         12004         55     164.50  \n",
       "1          9797         60     157.50  \n",
       "2          6857         74     171.00  \n",
       "3         13498         83     180.34  \n",
       "4          6365         72     175.00  "
      ]
     },
     "execution_count": 7,
     "metadata": {},
     "output_type": "execute_result"
    }
   ],
   "source": [
    "final_dataframe.head()"
   ]
  },
  {
   "cell_type": "markdown",
   "id": "84cdef72-4431-4352-b7d7-c826efc2f8c6",
   "metadata": {},
   "source": [
    "## 2.2 Outliers Handling"
   ]
  },
  {
   "cell_type": "code",
   "execution_count": 8,
   "id": "2cda82d6-f7c8-48a4-8ce6-727605a344f9",
   "metadata": {},
   "outputs": [
    {
     "name": "stdout",
     "output_type": "stream",
     "text": [
      "Outliers in fitbit_resting_heart_rate:\n",
      "    fitbit_resting_heart_rate Honesty/Humility Negative Emotionality  \\\n",
      "19                         54   Strongly Agree                 Agree   \n",
      "24                         86   Strongly Agree        Strongly Agree   \n",
      "26                         56            Agree              Disagree   \n",
      "32                         75            Agree              Disagree   \n",
      "39                         74   Strongly Agree                 Agree   \n",
      "\n",
      "   Extraversion Agreeableness Conscientiousness Openness to Experiences  \\\n",
      "19     Disagree       Neutral           Neutral                   Agree   \n",
      "24        Agree         Agree             Agree                   Agree   \n",
      "26        Agree       Neutral             Agree                 Neutral   \n",
      "32        Agree         Agree             Agree                   Agree   \n",
      "39        Agree       Neutral             Agree          Strongly Agree   \n",
      "\n",
      "    fitbit_steps  weight_kg  height_cm  \n",
      "19          6826         59      160.0  \n",
      "24          9276         65      178.0  \n",
      "26          6571         71      150.0  \n",
      "32          6747         57      167.0  \n",
      "39          9624         62      170.0  \n",
      "\n",
      "\n",
      "Outliers in fitbit_steps:\n",
      "No outliers detected.\n",
      "\n",
      "\n",
      "Outliers in weight_kg:\n",
      "No outliers detected.\n",
      "\n",
      "\n",
      "Outliers in height_cm:\n",
      "No outliers detected.\n",
      "\n",
      "\n"
     ]
    },
    {
     "data": {
      "image/png": "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\n",
      "text/plain": [
       "<Figure size 432x288 with 1 Axes>"
      ]
     },
     "metadata": {
      "needs_background": "light"
     },
     "output_type": "display_data"
    },
    {
     "data": {
      "image/png": "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\n",
      "text/plain": [
       "<Figure size 432x288 with 1 Axes>"
      ]
     },
     "metadata": {
      "needs_background": "light"
     },
     "output_type": "display_data"
    },
    {
     "data": {
      "image/png": "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\n",
      "text/plain": [
       "<Figure size 432x288 with 1 Axes>"
      ]
     },
     "metadata": {
      "needs_background": "light"
     },
     "output_type": "display_data"
    },
    {
     "data": {
      "image/png": "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\n",
      "text/plain": [
       "<Figure size 432x288 with 1 Axes>"
      ]
     },
     "metadata": {
      "needs_background": "light"
     },
     "output_type": "display_data"
    }
   ],
   "source": [
    "import matplotlib.pyplot as plt\n",
    "\n",
    "# Numeric columns in the final dataframe\n",
    "numeric_columns = [\"fitbit_resting_heart_rate\",\"fitbit_steps\",\"weight_kg\",\"height_cm\"]\n",
    "\n",
    "# Detect outliers using IQR\n",
    "def detect_outliers_iqr(data, column):\n",
    "    Q1 = data[column].quantile(0.25)\n",
    "    Q3 = data[column].quantile(0.75)\n",
    "    IQR = Q3 - Q1\n",
    "    lower_bound = Q1 - 1.5 * IQR\n",
    "    upper_bound = Q3 + 1.5 * IQR\n",
    "    outliers = data[(data[column] < lower_bound) | (data[column] > upper_bound)]\n",
    "    return outliers\n",
    "\n",
    "# Checking for outliers in each numeric column\n",
    "outliers_summary = {}\n",
    "for column in numeric_columns:\n",
    "    outliers = detect_outliers_iqr(final_dataframe, column)\n",
    "    outliers_summary[column] = outliers\n",
    "\n",
    "# Displaying outliers\n",
    "for column, outliers in outliers_summary.items():\n",
    "    print(f\"Outliers in {column}:\")\n",
    "    print(outliers if not outliers.empty else \"No outliers detected.\")\n",
    "    print(\"\\n\")\n",
    "\n",
    "# Visualizing outliers using box plots\n",
    "for column in numeric_columns:\n",
    "    plt.figure()\n",
    "    plt.boxplot(final_dataframe[column].dropna(), vert=False)\n",
    "    plt.title(f\"Box Plot of {column}\")\n",
    "    plt.xlabel(column)\n",
    "    plt.show()\n"
   ]
  },
  {
   "cell_type": "markdown",
   "id": "0205536b-38c7-46f7-96b4-cc0d1800fd86",
   "metadata": {},
   "source": [
    "## 2.3 Feature Engineering (Calculating BMI and Activity_Level)"
   ]
  },
  {
   "cell_type": "code",
   "execution_count": 9,
   "id": "04ad8d6d-f32c-45c2-bb92-82913d9a5751",
   "metadata": {},
   "outputs": [],
   "source": [
    "# Recalculate BMI after correcting heights\n",
    "final_dataframe[\"bmi\"] = final_dataframe[\"weight_kg\"] / (final_dataframe[\"height_cm\"] / 100) ** 2"
   ]
  },
  {
   "cell_type": "code",
   "execution_count": 10,
   "id": "dea1c636-0746-41db-bfde-5c82884ea040",
   "metadata": {},
   "outputs": [],
   "source": [
    "# Verify and remove rows with extreme BMI values if necessary\n",
    "final_dataframe = final_dataframe[final_dataframe[\"bmi\"] < 60]  # Removing unrealistically high BMI values"
   ]
  },
  {
   "cell_type": "code",
   "execution_count": 11,
   "id": "1f64fbd5-8fdb-4671-a101-dc981140098e",
   "metadata": {},
   "outputs": [],
   "source": [
    "# Recalculate activity level after cleaning `fitbit_steps`\n",
    "def classify_activity_level(steps):\n",
    "    if steps < 5000:\n",
    "        return \"Sedentary\"\n",
    "    elif 5000 <= steps <= 9999:\n",
    "        return \"Moderately Active\"\n",
    "    else:\n",
    "        return \"Active\"\n",
    "\n",
    "final_dataframe[\"activity_level\"] = final_dataframe[\"fitbit_steps\"].apply(classify_activity_level)"
   ]
  },
  {
   "cell_type": "markdown",
   "id": "b73c063e-951a-473d-bb01-cdb29d5de44c",
   "metadata": {},
   "source": [
    "## 2.4 Converting Float to Int"
   ]
  },
  {
   "cell_type": "code",
   "execution_count": 12,
   "id": "6144d210-99c5-497c-8daf-d1bd387b1ba2",
   "metadata": {},
   "outputs": [],
   "source": [
    "# Round the 'fitbit_resting_heart_rate' column to remove decimals\n",
    "final_dataframe[\"fitbit_resting_heart_rate\"] = final_dataframe[\"fitbit_resting_heart_rate\"].round(0).astype(int)"
   ]
  },
  {
   "cell_type": "code",
   "execution_count": 13,
   "id": "1e36e074-a0cd-4995-b043-8bc06f43b176",
   "metadata": {},
   "outputs": [],
   "source": [
    "# Round the 'fitbit_steps' column to remove decimals\n",
    "final_dataframe[\"fitbit_steps\"] = final_dataframe[\"fitbit_steps\"].round(0).astype(int)"
   ]
  },
  {
   "cell_type": "code",
   "execution_count": 14,
   "id": "39492bb8-850f-459e-be9e-2c6103ced59c",
   "metadata": {},
   "outputs": [],
   "source": [
    "# Round the 'weight_kg' column to remove decimals\n",
    "final_dataframe[\"weight_kg\"] = final_dataframe[\"weight_kg\"].round(0).astype(int)"
   ]
  },
  {
   "cell_type": "code",
   "execution_count": 15,
   "id": "af8c949e-b8a5-4876-9403-68d27d676501",
   "metadata": {},
   "outputs": [],
   "source": [
    "# Round the 'height_cm' column to remove decimals\n",
    "final_dataframe[\"height_cm\"] = final_dataframe[\"height_cm\"].round(0).astype(int)"
   ]
  },
  {
   "cell_type": "markdown",
   "id": "5ed9610a-7473-40bc-ab9f-b1dccf6c841e",
   "metadata": {},
   "source": [
    "## 2.5 Mapping Categorical Traits into Numerical Values"
   ]
  },
  {
   "cell_type": "code",
   "execution_count": 16,
   "id": "cab8b90f-bbd2-4b47-83a1-d6783d31218f",
   "metadata": {},
   "outputs": [],
   "source": [
    "# Mapping dictionary\n",
    "mapping = {\n",
    "    'Strongly Disagree': 1,\n",
    "    'Disagree': 2,\n",
    "    'Neutral': 3,\n",
    "    'Agree': 4,\n",
    "    'Strongly Agree': 5\n",
    "}\n",
    "\n",
    "# Columns to normalize\n",
    "columns_to_normalize = [\n",
    "    'Honesty/Humility',\n",
    "    'Negative Emotionality',\n",
    "    'Extraversion',\n",
    "    'Agreeableness',\n",
    "    'Conscientiousness',\n",
    "    'Openness to Experiences'\n",
    "]\n",
    "\n",
    "# Normalize the columns\n",
    "for column in columns_to_normalize:\n",
    "    final_dataframe[column] = final_dataframe[column].map(mapping)"
   ]
  },
  {
   "cell_type": "code",
   "execution_count": 17,
   "id": "44d150c4-16fa-4eb7-b468-8d697998a8df",
   "metadata": {},
   "outputs": [
    {
     "data": {
      "text/html": [
       "<div>\n",
       "<style scoped>\n",
       "    .dataframe tbody tr th:only-of-type {\n",
       "        vertical-align: middle;\n",
       "    }\n",
       "\n",
       "    .dataframe tbody tr th {\n",
       "        vertical-align: top;\n",
       "    }\n",
       "\n",
       "    .dataframe thead th {\n",
       "        text-align: right;\n",
       "    }\n",
       "</style>\n",
       "<table border=\"1\" class=\"dataframe\">\n",
       "  <thead>\n",
       "    <tr style=\"text-align: right;\">\n",
       "      <th></th>\n",
       "      <th>fitbit_resting_heart_rate</th>\n",
       "      <th>Honesty/Humility</th>\n",
       "      <th>Negative Emotionality</th>\n",
       "      <th>Extraversion</th>\n",
       "      <th>Agreeableness</th>\n",
       "      <th>Conscientiousness</th>\n",
       "      <th>Openness to Experiences</th>\n",
       "      <th>fitbit_steps</th>\n",
       "      <th>weight_kg</th>\n",
       "      <th>height_cm</th>\n",
       "      <th>bmi</th>\n",
       "      <th>activity_level</th>\n",
       "    </tr>\n",
       "  </thead>\n",
       "  <tbody>\n",
       "    <tr>\n",
       "      <th>0</th>\n",
       "      <td>64</td>\n",
       "      <td>4</td>\n",
       "      <td>3</td>\n",
       "      <td>3</td>\n",
       "      <td>4</td>\n",
       "      <td>3</td>\n",
       "      <td>3</td>\n",
       "      <td>12004</td>\n",
       "      <td>55</td>\n",
       "      <td>164</td>\n",
       "      <td>20.325015</td>\n",
       "      <td>Active</td>\n",
       "    </tr>\n",
       "    <tr>\n",
       "      <th>1</th>\n",
       "      <td>67</td>\n",
       "      <td>3</td>\n",
       "      <td>3</td>\n",
       "      <td>3</td>\n",
       "      <td>3</td>\n",
       "      <td>4</td>\n",
       "      <td>4</td>\n",
       "      <td>9797</td>\n",
       "      <td>60</td>\n",
       "      <td>158</td>\n",
       "      <td>24.187453</td>\n",
       "      <td>Moderately Active</td>\n",
       "    </tr>\n",
       "    <tr>\n",
       "      <th>2</th>\n",
       "      <td>68</td>\n",
       "      <td>3</td>\n",
       "      <td>2</td>\n",
       "      <td>4</td>\n",
       "      <td>3</td>\n",
       "      <td>3</td>\n",
       "      <td>4</td>\n",
       "      <td>6857</td>\n",
       "      <td>74</td>\n",
       "      <td>171</td>\n",
       "      <td>25.306932</td>\n",
       "      <td>Moderately Active</td>\n",
       "    </tr>\n",
       "    <tr>\n",
       "      <th>3</th>\n",
       "      <td>65</td>\n",
       "      <td>4</td>\n",
       "      <td>2</td>\n",
       "      <td>3</td>\n",
       "      <td>4</td>\n",
       "      <td>4</td>\n",
       "      <td>4</td>\n",
       "      <td>13498</td>\n",
       "      <td>83</td>\n",
       "      <td>180</td>\n",
       "      <td>25.520781</td>\n",
       "      <td>Active</td>\n",
       "    </tr>\n",
       "    <tr>\n",
       "      <th>4</th>\n",
       "      <td>68</td>\n",
       "      <td>3</td>\n",
       "      <td>2</td>\n",
       "      <td>2</td>\n",
       "      <td>3</td>\n",
       "      <td>2</td>\n",
       "      <td>5</td>\n",
       "      <td>6365</td>\n",
       "      <td>72</td>\n",
       "      <td>175</td>\n",
       "      <td>23.510204</td>\n",
       "      <td>Moderately Active</td>\n",
       "    </tr>\n",
       "  </tbody>\n",
       "</table>\n",
       "</div>"
      ],
      "text/plain": [
       "   fitbit_resting_heart_rate  Honesty/Humility  Negative Emotionality  \\\n",
       "0                         64                 4                      3   \n",
       "1                         67                 3                      3   \n",
       "2                         68                 3                      2   \n",
       "3                         65                 4                      2   \n",
       "4                         68                 3                      2   \n",
       "\n",
       "   Extraversion  Agreeableness  Conscientiousness  Openness to Experiences  \\\n",
       "0             3              4                  3                        3   \n",
       "1             3              3                  4                        4   \n",
       "2             4              3                  3                        4   \n",
       "3             3              4                  4                        4   \n",
       "4             2              3                  2                        5   \n",
       "\n",
       "   fitbit_steps  weight_kg  height_cm        bmi     activity_level  \n",
       "0         12004         55        164  20.325015             Active  \n",
       "1          9797         60        158  24.187453  Moderately Active  \n",
       "2          6857         74        171  25.306932  Moderately Active  \n",
       "3         13498         83        180  25.520781             Active  \n",
       "4          6365         72        175  23.510204  Moderately Active  "
      ]
     },
     "execution_count": 17,
     "metadata": {},
     "output_type": "execute_result"
    }
   ],
   "source": [
    "final_dataframe.head()"
   ]
  },
  {
   "cell_type": "code",
   "execution_count": 18,
   "id": "717ec77b-8fa6-4522-8883-807d258881e1",
   "metadata": {},
   "outputs": [
    {
     "name": "stdout",
     "output_type": "stream",
     "text": [
      "<class 'pandas.core.frame.DataFrame'>\n",
      "Int64Index: 40 entries, 0 to 39\n",
      "Data columns (total 12 columns):\n",
      " #   Column                     Non-Null Count  Dtype  \n",
      "---  ------                     --------------  -----  \n",
      " 0   fitbit_resting_heart_rate  40 non-null     int32  \n",
      " 1   Honesty/Humility           40 non-null     int64  \n",
      " 2   Negative Emotionality      40 non-null     int64  \n",
      " 3   Extraversion               40 non-null     int64  \n",
      " 4   Agreeableness              40 non-null     int64  \n",
      " 5   Conscientiousness          40 non-null     int64  \n",
      " 6   Openness to Experiences    40 non-null     int64  \n",
      " 7   fitbit_steps               40 non-null     int32  \n",
      " 8   weight_kg                  40 non-null     int32  \n",
      " 9   height_cm                  40 non-null     int32  \n",
      " 10  bmi                        40 non-null     float64\n",
      " 11  activity_level             40 non-null     object \n",
      "dtypes: float64(1), int32(4), int64(6), object(1)\n",
      "memory usage: 3.4+ KB\n"
     ]
    }
   ],
   "source": [
    "final_dataframe.info()"
   ]
  },
  {
   "cell_type": "code",
   "execution_count": 19,
   "id": "3faaaadb-d2b9-4fb7-a26f-848c09c98709",
   "metadata": {},
   "outputs": [
    {
     "name": "stdout",
     "output_type": "stream",
     "text": [
      "Number of NaN values: 0\n"
     ]
    }
   ],
   "source": [
    "# Check for NaN values\n",
    "print(\"Number of NaN values:\", final_dataframe.isnull().sum().sum())"
   ]
  },
  {
   "cell_type": "markdown",
   "id": "d4a1158d-e95c-415e-af64-b90c46d03bc6",
   "metadata": {},
   "source": [
    "# 3. Deployment"
   ]
  },
  {
   "cell_type": "markdown",
   "id": "195ae5bd-cf8e-4284-8379-570390b0c65b",
   "metadata": {},
   "source": [
    "## 3.1 Defining Features and Target Variable"
   ]
  },
  {
   "cell_type": "code",
   "execution_count": 20,
   "id": "d05a2f6a-73a3-4d83-b75a-ea9c6651833d",
   "metadata": {},
   "outputs": [],
   "source": [
    "# Define the correct column order used during training\n",
    "correct_column_order = [\n",
    "    'fitbit_resting_heart_rate',\n",
    "    'bmi',\n",
    "    'Honesty/Humility',\n",
    "    'Negative Emotionality',\n",
    "    'Extraversion',\n",
    "    'Agreeableness',\n",
    "    'Conscientiousness',\n",
    "    'Openness to Experiences'\n",
    "]"
   ]
  },
  {
   "cell_type": "code",
   "execution_count": 21,
   "id": "897106f2-d573-48b2-a030-68d31e40343a",
   "metadata": {},
   "outputs": [],
   "source": [
    "# Reorder columns to match training\n",
    "X_test = final_dataframe[correct_column_order]\n",
    "\n",
    "# Extract the actual target variable\n",
    "y_test = final_dataframe['activity_level']"
   ]
  },
  {
   "cell_type": "markdown",
   "id": "b198ae21-a4d3-40a6-8a67-6a08af18cfa6",
   "metadata": {},
   "source": [
    "## 3.2 Loading Best Model"
   ]
  },
  {
   "cell_type": "code",
   "execution_count": 22,
   "id": "1b5f7ad6-e296-4b0b-bea2-6edb5eccf47a",
   "metadata": {},
   "outputs": [],
   "source": [
    "# Load the trained model\n",
    "model_file_path = 'stacking_clf_final.pkl'\n",
    "loaded_model = joblib.load(model_file_path)"
   ]
  },
  {
   "cell_type": "markdown",
   "id": "d3521659-32d6-49c9-9474-f77e1eb02013",
   "metadata": {},
   "source": [
    "## 3.3 Make Predictions "
   ]
  },
  {
   "cell_type": "code",
   "execution_count": 23,
   "id": "ff5564ac-1f13-4317-8ee7-5ba608d8addc",
   "metadata": {},
   "outputs": [],
   "source": [
    "# Make predictions\n",
    "y_pred = loaded_model.predict(X_test)"
   ]
  },
  {
   "cell_type": "markdown",
   "id": "a0eb3ac6-b563-482f-bb88-37064dc6d4a7",
   "metadata": {},
   "source": [
    "## 3.4 Evaluation "
   ]
  },
  {
   "cell_type": "code",
   "execution_count": 24,
   "id": "aa2739c2-4c58-42b5-ad27-760a3b86f558",
   "metadata": {},
   "outputs": [
    {
     "name": "stdout",
     "output_type": "stream",
     "text": [
      "\n",
      "Classification Report:\n",
      "                   precision    recall  f1-score   support\n",
      "\n",
      "           Active       0.69      0.65      0.67        17\n",
      "Moderately Active       0.55      0.69      0.61        16\n",
      "        Sedentary       0.75      0.43      0.55         7\n",
      "\n",
      "         accuracy                           0.62        40\n",
      "        macro avg       0.66      0.59      0.61        40\n",
      "     weighted avg       0.64      0.62      0.62        40\n",
      "\n"
     ]
    }
   ],
   "source": [
    "# Evaluate the model\n",
    "print(\"\\nClassification Report:\")\n",
    "print(classification_report(y_test, y_pred))"
   ]
  },
  {
   "cell_type": "code",
   "execution_count": 25,
   "id": "46869268-5cc6-4e7c-b59f-1a2f4fd034f5",
   "metadata": {},
   "outputs": [
    {
     "name": "stdout",
     "output_type": "stream",
     "text": [
      "\n",
      "Confusion Matrix:\n",
      "[[11  6  0]\n",
      " [ 4 11  1]\n",
      " [ 1  3  3]]\n"
     ]
    }
   ],
   "source": [
    "print(\"\\nConfusion Matrix:\")\n",
    "print(confusion_matrix(y_test, y_pred))"
   ]
  },
  {
   "cell_type": "markdown",
   "id": "f9fe5e7f-5e51-4160-a72f-340062054c92",
   "metadata": {},
   "source": [
    "# 4. Update Participants dataset with new columns ('bmi','activity_level')"
   ]
  },
  {
   "cell_type": "code",
   "execution_count": 26,
   "id": "01f04dd2-7c06-45b2-b0b1-9c35f58e67bc",
   "metadata": {},
   "outputs": [],
   "source": [
    "# Add the y_pred as a new column in the dataframe\n",
    "participants_data['Activity_Level'] = y_pred"
   ]
  },
  {
   "cell_type": "code",
   "execution_count": 27,
   "id": "fece2386-6161-4ad6-9a1d-cc7eff46194f",
   "metadata": {},
   "outputs": [],
   "source": [
    "participants_data['bmi'] = final_dataframe['bmi'].values"
   ]
  },
  {
   "cell_type": "code",
   "execution_count": 28,
   "id": "82e3016d-265b-4cb3-a63e-35c100415095",
   "metadata": {},
   "outputs": [],
   "source": [
    "# Replace the fitbit_resting_heart_rate column with values from the final dataframe\n",
    "participants_data['fitbit_resting_heart_rate'] = final_dataframe['fitbit_resting_heart_rate'].values"
   ]
  },
  {
   "cell_type": "code",
   "execution_count": 29,
   "id": "a9aa643d-1af6-4a30-a914-9c21028a4bb3",
   "metadata": {},
   "outputs": [
    {
     "name": "stdout",
     "output_type": "stream",
     "text": [
      "<class 'pandas.core.frame.DataFrame'>\n",
      "RangeIndex: 40 entries, 0 to 39\n",
      "Data columns (total 35 columns):\n",
      " #   Column                                                                                                     Non-Null Count  Dtype         \n",
      "---  ------                                                                                                     --------------  -----         \n",
      " 0   ID                                                                                                         40 non-null     int64         \n",
      " 1   Start time                                                                                                 40 non-null     datetime64[ns]\n",
      " 2   Completion time                                                                                            40 non-null     datetime64[ns]\n",
      " 3   Email                                                                                                      40 non-null     object        \n",
      " 4   Name                                                                                                       0 non-null      float64       \n",
      " 5   Last modified time                                                                                         0 non-null      float64       \n",
      " 6   I have read and understood the purpose of this study                                                       40 non-null     object        \n",
      " 7   I understand that my participation is voluntary, and I can withdraw at any time without any consequences.  40 non-null     object        \n",
      " 8   I agree to participate in this study.                                                                      40 non-null     object        \n",
      " 9   Participant ID                                                                                             40 non-null     object        \n",
      " 10  Age                                                                                                        40 non-null     object        \n",
      " 11  Gender                                                                                                     40 non-null     object        \n",
      " 12  height_cm                                                                                                  40 non-null     float64       \n",
      " 13  weight_kg                                                                                                  40 non-null     int64         \n",
      " 14  Do you use a fitness tracker or wearable device to track biometrics?                                       40 non-null     object        \n",
      " 15  fitbit_resting_heart_rate                                                                                  40 non-null     int32         \n",
      " 16  fitbit_steps                                                                                               40 non-null     int64         \n",
      " 17  How often do you monitor your biometrics?                                                                  40 non-null     object        \n",
      " 18  Honesty/Humility                                                                                           40 non-null     object        \n",
      " 19  Negative Emotionality                                                                                      40 non-null     object        \n",
      " 20  Extraversion                                                                                               40 non-null     object        \n",
      " 21  Agreeableness                                                                                              40 non-null     object        \n",
      " 22  Conscientiousness                                                                                          40 non-null     object        \n",
      " 23  Openness to Experiences                                                                                    40 non-null     object        \n",
      " 24  How often do you engage in physical exercise?                                                              40 non-null     object        \n",
      " 25  What type of physical activities do you regularly engage in?                                               39 non-null     object        \n",
      " 26  How would you describe your eating habits?                                                                 40 non-null     object        \n",
      " 27  How many hours do you sleep on average per night?                                                          40 non-null     object        \n",
      " 28  How often do you feel stressed or anxious?                                                                 40 non-null     object        \n",
      " 29  How much time do you spend sitting daily (e.g., working, studying, watching TV)?                           40 non-null     object        \n",
      " 30  Do you smoke or consume alcohol?                                                                           40 non-null     object        \n",
      " 31  Would you be open to participating in future follow-up studies related to this research?                   40 non-null     object        \n",
      " 32  Any additional comments or suggestions?                                                                    13 non-null     object        \n",
      " 33  Activity_Level                                                                                             40 non-null     object        \n",
      " 34  bmi                                                                                                        40 non-null     float64       \n",
      "dtypes: datetime64[ns](2), float64(4), int32(1), int64(3), object(25)\n",
      "memory usage: 10.9+ KB\n"
     ]
    }
   ],
   "source": [
    "participants_data.info()"
   ]
  },
  {
   "cell_type": "code",
   "execution_count": 30,
   "id": "5612cb3b-06f4-4ad0-a22c-a923973e4a9f",
   "metadata": {},
   "outputs": [],
   "source": [
    "participants_data.to_csv('Final_ParticipantsData_WithPredictions.csv', index=False)"
   ]
  },
  {
   "cell_type": "code",
   "execution_count": null,
   "id": "1253065f-f63b-447e-ae18-8deacd3249ad",
   "metadata": {},
   "outputs": [],
   "source": []
  }
 ],
 "metadata": {
  "kernelspec": {
   "display_name": "Python 3 (ipykernel)",
   "language": "python",
   "name": "python3"
  },
  "language_info": {
   "codemirror_mode": {
    "name": "ipython",
    "version": 3
   },
   "file_extension": ".py",
   "mimetype": "text/x-python",
   "name": "python",
   "nbconvert_exporter": "python",
   "pygments_lexer": "ipython3",
   "version": "3.9.18"
  }
 },
 "nbformat": 4,
 "nbformat_minor": 5
}

# Refactored model training block on 17 Oct 2024, 16:48

# Corrected CSV column alignment on 17 Oct 2024, 17:56

# Refactored model training block on 28 Oct 2024, 10:27

# Improved explanation in notebook on 29 Oct 2024, 11:47
